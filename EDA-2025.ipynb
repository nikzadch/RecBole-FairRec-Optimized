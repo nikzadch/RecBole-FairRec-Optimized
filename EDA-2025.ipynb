{
 "cells": [
  {
   "cell_type": "code",
   "execution_count": 1,
   "metadata": {},
   "outputs": [],
   "source": [
    "import pandas as pd\n",
    "import numpy as np\n",
    "\n"
   ]
  },
  {
   "cell_type": "code",
   "execution_count": 12,
   "metadata": {},
   "outputs": [],
   "source": [
    "df = pd.read_csv(\"dataset/LastFM-100K/LastFM-100K.user\", sep=\"\\t\")\n",
    "df1 = pd.read_csv(\"dataset/BookRec-100K/BookRec-100K.user\", sep=\"\\t\")\n",
    "df2 = pd.read_csv(\"dataset/ml-1M/ml-1M.user\", sep=\"\\t\")"
   ]
  },
  {
   "cell_type": "code",
   "execution_count": 5,
   "metadata": {},
   "outputs": [
    {
     "data": {
      "text/html": [
       "<div>\n",
       "<style scoped>\n",
       "    .dataframe tbody tr th:only-of-type {\n",
       "        vertical-align: middle;\n",
       "    }\n",
       "\n",
       "    .dataframe tbody tr th {\n",
       "        vertical-align: top;\n",
       "    }\n",
       "\n",
       "    .dataframe thead th {\n",
       "        text-align: right;\n",
       "    }\n",
       "</style>\n",
       "<table border=\"1\" class=\"dataframe\">\n",
       "  <thead>\n",
       "    <tr style=\"text-align: right;\">\n",
       "      <th></th>\n",
       "      <th>user_id:token</th>\n",
       "      <th>gender:token</th>\n",
       "      <th>age:token</th>\n",
       "      <th>country:token</th>\n",
       "      <th>datejoined:token</th>\n",
       "    </tr>\n",
       "  </thead>\n",
       "  <tbody>\n",
       "    <tr>\n",
       "      <th>count</th>\n",
       "      <td>75724</td>\n",
       "      <td>75724</td>\n",
       "      <td>75724</td>\n",
       "      <td>75724</td>\n",
       "      <td>75724</td>\n",
       "    </tr>\n",
       "    <tr>\n",
       "      <th>unique</th>\n",
       "      <td>75724</td>\n",
       "      <td>2</td>\n",
       "      <td>4</td>\n",
       "      <td>221</td>\n",
       "      <td>2077</td>\n",
       "    </tr>\n",
       "    <tr>\n",
       "      <th>top</th>\n",
       "      <td>000063d3fe1cf2ba248b9e3c3f0334845a27a6bf</td>\n",
       "      <td>m</td>\n",
       "      <td>Y</td>\n",
       "      <td>United States</td>\n",
       "      <td>Nov 2, 2008</td>\n",
       "    </tr>\n",
       "    <tr>\n",
       "      <th>freq</th>\n",
       "      <td>1</td>\n",
       "      <td>56174</td>\n",
       "      <td>55586</td>\n",
       "      <td>14019</td>\n",
       "      <td>112</td>\n",
       "    </tr>\n",
       "  </tbody>\n",
       "</table>\n",
       "</div>"
      ],
      "text/plain": [
       "                                   user_id:token gender:token age:token  \\\n",
       "count                                      75724        75724     75724   \n",
       "unique                                     75724            2         4   \n",
       "top     000063d3fe1cf2ba248b9e3c3f0334845a27a6bf            m         Y   \n",
       "freq                                           1        56174     55586   \n",
       "\n",
       "        country:token datejoined:token  \n",
       "count           75724            75724  \n",
       "unique            221             2077  \n",
       "top     United States      Nov 2, 2008  \n",
       "freq            14019              112  "
      ]
     },
     "execution_count": 5,
     "metadata": {},
     "output_type": "execute_result"
    }
   ],
   "source": [
    "df.describe()"
   ]
  },
  {
   "cell_type": "code",
   "execution_count": 6,
   "metadata": {},
   "outputs": [
    {
     "name": "stdout",
     "output_type": "stream",
     "text": [
      "<class 'pandas.core.frame.DataFrame'>\n",
      "RangeIndex: 75724 entries, 0 to 75723\n",
      "Data columns (total 5 columns):\n",
      " #   Column            Non-Null Count  Dtype \n",
      "---  ------            --------------  ----- \n",
      " 0   user_id:token     75724 non-null  object\n",
      " 1   gender:token      75724 non-null  object\n",
      " 2   age:token         75724 non-null  object\n",
      " 3   country:token     75724 non-null  object\n",
      " 4   datejoined:token  75724 non-null  object\n",
      "dtypes: object(5)\n",
      "memory usage: 2.9+ MB\n"
     ]
    }
   ],
   "source": [
    "df.info()"
   ]
  },
  {
   "cell_type": "code",
   "execution_count": 13,
   "metadata": {},
   "outputs": [
    {
     "name": "stdout",
     "output_type": "stream",
     "text": [
      "Y    55586\n",
      "T    15895\n",
      "A     3600\n",
      "S      643\n",
      "Name: age:token, dtype: int64\n",
      "Y    93428\n",
      "A    45511\n",
      "T    19963\n",
      "S     9194\n",
      "Name: age:token, dtype: int64\n",
      "Y    573\n",
      "A    262\n",
      "T     77\n",
      "S     31\n",
      "Name: age:token, dtype: int64\n"
     ]
    }
   ],
   "source": [
    "print(df['age:token'].value_counts())\n",
    "print(df1['age:token'].value_counts())\n",
    "print(df2['age:token'].value_counts())"
   ]
  }
 ],
 "metadata": {
  "kernelspec": {
   "display_name": "Python 3 (ipykernel)",
   "language": "python",
   "name": "python3"
  },
  "language_info": {
   "codemirror_mode": {
    "name": "ipython",
    "version": 3
   },
   "file_extension": ".py",
   "mimetype": "text/x-python",
   "name": "python",
   "nbconvert_exporter": "python",
   "pygments_lexer": "ipython3",
   "version": "3.10.12"
  }
 },
 "nbformat": 4,
 "nbformat_minor": 2
}
